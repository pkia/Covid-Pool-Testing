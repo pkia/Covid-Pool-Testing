{
 "cells": [
  {
   "cell_type": "code",
   "execution_count": 1,
   "metadata": {
    "collapsed": true
   },
   "outputs": [],
   "source": [
    "import pandas as pd\n",
    "import random\n",
    "import numpy as np\n",
    "import tensorflow as tf\n",
    "from tensorflow.keras.optimizers import Adam\n",
    "import matplotlib.pyplot as plt"
   ]
  },
  {
   "cell_type": "code",
   "execution_count": 2,
   "outputs": [
    {
     "data": {
      "text/plain": "                Date_HPSC  TotalLabs  Positive  PRate  Test24\n0  2020/03/18 11:00:00+00       6457       395    6.1       0\n1  2020/03/19 11:00:00+00       7403       465    6.3     946\n2  2020/03/20 11:00:00+00       8872       570    6.4    1469\n3  2020/03/21 11:00:00+00      10436       625    6.0    1564\n4  2020/03/22 11:00:00+00      11414       744    6.5     978",
      "text/html": "<div>\n<style scoped>\n    .dataframe tbody tr th:only-of-type {\n        vertical-align: middle;\n    }\n\n    .dataframe tbody tr th {\n        vertical-align: top;\n    }\n\n    .dataframe thead th {\n        text-align: right;\n    }\n</style>\n<table border=\"1\" class=\"dataframe\">\n  <thead>\n    <tr style=\"text-align: right;\">\n      <th></th>\n      <th>Date_HPSC</th>\n      <th>TotalLabs</th>\n      <th>Positive</th>\n      <th>PRate</th>\n      <th>Test24</th>\n    </tr>\n  </thead>\n  <tbody>\n    <tr>\n      <th>0</th>\n      <td>2020/03/18 11:00:00+00</td>\n      <td>6457</td>\n      <td>395</td>\n      <td>6.1</td>\n      <td>0</td>\n    </tr>\n    <tr>\n      <th>1</th>\n      <td>2020/03/19 11:00:00+00</td>\n      <td>7403</td>\n      <td>465</td>\n      <td>6.3</td>\n      <td>946</td>\n    </tr>\n    <tr>\n      <th>2</th>\n      <td>2020/03/20 11:00:00+00</td>\n      <td>8872</td>\n      <td>570</td>\n      <td>6.4</td>\n      <td>1469</td>\n    </tr>\n    <tr>\n      <th>3</th>\n      <td>2020/03/21 11:00:00+00</td>\n      <td>10436</td>\n      <td>625</td>\n      <td>6.0</td>\n      <td>1564</td>\n    </tr>\n    <tr>\n      <th>4</th>\n      <td>2020/03/22 11:00:00+00</td>\n      <td>11414</td>\n      <td>744</td>\n      <td>6.5</td>\n      <td>978</td>\n    </tr>\n  </tbody>\n</table>\n</div>"
     },
     "execution_count": 2,
     "metadata": {},
     "output_type": "execute_result"
    }
   ],
   "source": [
    "fields = [\"Date_HPSC\", \"TotalLabs\", \"Positive\", \"Test24\", \"PRate\"]\n",
    "cov_nums = pd.read_csv(\"LaboratoryLocalTimeSeriesHistoricView.csv\", usecols=fields)\n",
    "cov_nums.head()"
   ],
   "metadata": {
    "collapsed": false,
    "pycharm": {
     "name": "#%%\n"
    }
   }
  },
  {
   "cell_type": "code",
   "execution_count": 3,
   "outputs": [
    {
     "data": {
      "text/plain": "                  Date_HPSC  TotalLabs  Positive  PRate  Test24  daily_pos\n389  2021/04/11 11:00:00+00    4184407    248665    5.9   14355        847\n390  2021/04/12 11:00:00+00    4196325    248992    5.9   11918        703\n391  2021/04/13 11:00:00+00    4209975    249344    5.9   13650        805\n392  2021/04/14 11:00:00+00    4226847    249797    5.9   16872        995\n393  2021/04/15 11:00:00+00    4241709    250215    5.9   14862        877",
      "text/html": "<div>\n<style scoped>\n    .dataframe tbody tr th:only-of-type {\n        vertical-align: middle;\n    }\n\n    .dataframe tbody tr th {\n        vertical-align: top;\n    }\n\n    .dataframe thead th {\n        text-align: right;\n    }\n</style>\n<table border=\"1\" class=\"dataframe\">\n  <thead>\n    <tr style=\"text-align: right;\">\n      <th></th>\n      <th>Date_HPSC</th>\n      <th>TotalLabs</th>\n      <th>Positive</th>\n      <th>PRate</th>\n      <th>Test24</th>\n      <th>daily_pos</th>\n    </tr>\n  </thead>\n  <tbody>\n    <tr>\n      <th>389</th>\n      <td>2021/04/11 11:00:00+00</td>\n      <td>4184407</td>\n      <td>248665</td>\n      <td>5.9</td>\n      <td>14355</td>\n      <td>847</td>\n    </tr>\n    <tr>\n      <th>390</th>\n      <td>2021/04/12 11:00:00+00</td>\n      <td>4196325</td>\n      <td>248992</td>\n      <td>5.9</td>\n      <td>11918</td>\n      <td>703</td>\n    </tr>\n    <tr>\n      <th>391</th>\n      <td>2021/04/13 11:00:00+00</td>\n      <td>4209975</td>\n      <td>249344</td>\n      <td>5.9</td>\n      <td>13650</td>\n      <td>805</td>\n    </tr>\n    <tr>\n      <th>392</th>\n      <td>2021/04/14 11:00:00+00</td>\n      <td>4226847</td>\n      <td>249797</td>\n      <td>5.9</td>\n      <td>16872</td>\n      <td>995</td>\n    </tr>\n    <tr>\n      <th>393</th>\n      <td>2021/04/15 11:00:00+00</td>\n      <td>4241709</td>\n      <td>250215</td>\n      <td>5.9</td>\n      <td>14862</td>\n      <td>877</td>\n    </tr>\n  </tbody>\n</table>\n</div>"
     },
     "execution_count": 3,
     "metadata": {},
     "output_type": "execute_result"
    }
   ],
   "source": [
    "def positive(row):\n",
    "    pos = (row['Test24'] / 100) * row['PRate']\n",
    "    return round(pos)\n",
    "\n",
    "cov_nums['daily_pos'] = cov_nums.apply(positive, axis=1)\n",
    "cov_nums = cov_nums.iloc[1:]\n",
    "cov_nums.tail()"
   ],
   "metadata": {
    "collapsed": false,
    "pycharm": {
     "name": "#%%\n"
    }
   }
  },
  {
   "cell_type": "code",
   "execution_count": 4,
   "outputs": [
    {
     "data": {
      "text/plain": "    Date_HPSC  Test24\n1  2020-03-19     946\n2  2020-03-20    1469\n3  2020-03-21    1564\n4  2020-03-22     978\n5  2020-03-23    2581",
      "text/html": "<div>\n<style scoped>\n    .dataframe tbody tr th:only-of-type {\n        vertical-align: middle;\n    }\n\n    .dataframe tbody tr th {\n        vertical-align: top;\n    }\n\n    .dataframe thead th {\n        text-align: right;\n    }\n</style>\n<table border=\"1\" class=\"dataframe\">\n  <thead>\n    <tr style=\"text-align: right;\">\n      <th></th>\n      <th>Date_HPSC</th>\n      <th>Test24</th>\n    </tr>\n  </thead>\n  <tbody>\n    <tr>\n      <th>1</th>\n      <td>2020-03-19</td>\n      <td>946</td>\n    </tr>\n    <tr>\n      <th>2</th>\n      <td>2020-03-20</td>\n      <td>1469</td>\n    </tr>\n    <tr>\n      <th>3</th>\n      <td>2020-03-21</td>\n      <td>1564</td>\n    </tr>\n    <tr>\n      <th>4</th>\n      <td>2020-03-22</td>\n      <td>978</td>\n    </tr>\n    <tr>\n      <th>5</th>\n      <td>2020-03-23</td>\n      <td>2581</td>\n    </tr>\n  </tbody>\n</table>\n</div>"
     },
     "execution_count": 4,
     "metadata": {},
     "output_type": "execute_result"
    }
   ],
   "source": [
    "test_info = [\"Date_HPSC\", \"Test24\"]\n",
    "test_df = cov_nums[test_info]\n",
    "test_df = pd.DataFrame(test_df)\n",
    "test_df['Date_HPSC'] = pd.to_datetime(test_df['Date_HPSC']).dt.date\n",
    "test_df.head()"
   ],
   "metadata": {
    "collapsed": false,
    "pycharm": {
     "name": "#%%\n"
    }
   }
  },
  {
   "cell_type": "code",
   "execution_count": 5,
   "outputs": [],
   "source": [
    "pos = ['Date_HPSC','Test24','daily_pos','PRate']\n",
    "pos_df = cov_nums[pos]\n",
    "pos_df = pd.DataFrame(pos_df)\n",
    "pos_df['Date_HPSC'] = pd.to_datetime(pos_df['Date_HPSC']).dt.date"
   ],
   "metadata": {
    "collapsed": false,
    "pycharm": {
     "name": "#%%\n"
    }
   }
  },
  {
   "cell_type": "code",
   "execution_count": 6,
   "outputs": [],
   "source": [
    "def seq(row):\n",
    "    length = (int(row['Test24']) - int(row['daily_pos']))\n",
    "    daily_pos = int(row['daily_pos'])\n",
    "    init_seq = [0] * length\n",
    "    init_pos = [1] * daily_pos\n",
    "    seq_list = init_seq + init_pos\n",
    "    for i in range(len(seq_list)-1, 0, -1):\n",
    "        j = random.randint(0, i+1)\n",
    "        seq_list[i], seq_list[j] = seq_list[j], seq_list[i]\n",
    "    return list(seq_list)\n",
    "\n",
    "pos_df['seq_list'] = pos_df.apply(seq, axis=1)\n",
    "pos_df = pd.DataFrame(pos_df)\n"
   ],
   "metadata": {
    "collapsed": false,
    "pycharm": {
     "name": "#%%\n"
    }
   }
  },
  {
   "cell_type": "code",
   "execution_count": 7,
   "metadata": {},
   "outputs": [
    {
     "data": {
      "text/plain": "    Date_HPSC  Test24  daily_pos  PRate  pool_test\n1  2020-03-19     946         60    6.3        358\n2  2020-03-20    1469         94    6.4        595\n3  2020-03-21    1564         94    6.0        585\n4  2020-03-22     978         64    6.5        408\n5  2020-03-23    2581        157    6.1        982",
      "text/html": "<div>\n<style scoped>\n    .dataframe tbody tr th:only-of-type {\n        vertical-align: middle;\n    }\n\n    .dataframe tbody tr th {\n        vertical-align: top;\n    }\n\n    .dataframe thead th {\n        text-align: right;\n    }\n</style>\n<table border=\"1\" class=\"dataframe\">\n  <thead>\n    <tr style=\"text-align: right;\">\n      <th></th>\n      <th>Date_HPSC</th>\n      <th>Test24</th>\n      <th>daily_pos</th>\n      <th>PRate</th>\n      <th>pool_test</th>\n    </tr>\n  </thead>\n  <tbody>\n    <tr>\n      <th>1</th>\n      <td>2020-03-19</td>\n      <td>946</td>\n      <td>60</td>\n      <td>6.3</td>\n      <td>358</td>\n    </tr>\n    <tr>\n      <th>2</th>\n      <td>2020-03-20</td>\n      <td>1469</td>\n      <td>94</td>\n      <td>6.4</td>\n      <td>595</td>\n    </tr>\n    <tr>\n      <th>3</th>\n      <td>2020-03-21</td>\n      <td>1564</td>\n      <td>94</td>\n      <td>6.0</td>\n      <td>585</td>\n    </tr>\n    <tr>\n      <th>4</th>\n      <td>2020-03-22</td>\n      <td>978</td>\n      <td>64</td>\n      <td>6.5</td>\n      <td>408</td>\n    </tr>\n    <tr>\n      <th>5</th>\n      <td>2020-03-23</td>\n      <td>2581</td>\n      <td>157</td>\n      <td>6.1</td>\n      <td>982</td>\n    </tr>\n  </tbody>\n</table>\n</div>"
     },
     "execution_count": 7,
     "metadata": {},
     "output_type": "execute_result"
    }
   ],
   "source": [
    "def hasPositive(block):\n",
    "    for node in block:\n",
    "        if node == 1:\n",
    "            return True\n",
    "    return False\n",
    "\n",
    "def splitBlock(block):\n",
    "    halfBlock = len(block) // 2\n",
    "    return block[:halfBlock], block[halfBlock:]\n",
    "\n",
    "def binSplit(data, count):\n",
    "    count += 1\n",
    "    #print(\"Data:\", data)\n",
    "    if len(data) > 1 and hasPositive(data):     # Branch is complete\n",
    "        left, right = splitBlock(data)      # Split the block\n",
    "       # print(\"Left:\", left, \"\\tRight:\", right)\n",
    "        if len(left) <= 1 or not hasPositive(left):     # Left branch is complete\n",
    "        #    print(\"Left branch is complete\")\n",
    "            return binSplit(right, count)\n",
    "        result, count = binSplit(left, count)\n",
    "      #  print(\"Result:\", result)\n",
    "        if result is True:\n",
    "       #     print(\"Result was True\")\n",
    "            return binSplit(right, count)\n",
    "      #  print(\"Adding result to right and splitting\")\n",
    "        return binSplit((result + right), count)\n",
    "    else:\n",
    "     #   print(\"Returning True\")\n",
    "        return True, count\n",
    "\n",
    "def runtime(row):\n",
    "    answer = binSplit(row, 0)[1]\n",
    "    return answer\n",
    "\n",
    "pos_df['pool_test'] = pos_df['seq_list'].apply(runtime)\n",
    "pos_df['pool_test'].head()\n",
    "pos_df = pos_df.drop(['seq_list'], axis=1)\n",
    "\n",
    "df = pos_df\n",
    "df.head()"
   ]
  }
 ],
 "metadata": {
  "kernelspec": {
   "name": "pycharm-fc3bf42a",
   "language": "python",
   "display_name": "PyCharm (Hate-Speech-Classification-deployed-using-Flask)"
  },
  "language_info": {
   "codemirror_mode": {
    "name": "ipython",
    "version": 2
   },
   "file_extension": ".py",
   "mimetype": "text/x-python",
   "name": "python",
   "nbconvert_exporter": "python",
   "pygments_lexer": "ipython2",
   "version": "3.8.5"
  },
  "metadata": {
   "interpreter": {
    "hash": "2db524e06e9f5f4ffedc911c917cb75e12dbc923643829bf417064a77eb14d37"
   }
  }
 },
 "nbformat": 4,
 "nbformat_minor": 0
}