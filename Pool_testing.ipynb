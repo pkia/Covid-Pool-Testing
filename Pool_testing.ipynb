{
 "cells": [
  {
   "cell_type": "code",
   "execution_count": 1,
   "metadata": {
    "collapsed": true
   },
   "outputs": [
    {
     "output_type": "stream",
     "name": "stderr",
     "text": [
      "Importing plotly failed. Interactive plots will not work.\n"
     ]
    }
   ],
   "source": [
    "import pandas as pd\n",
    "import random\n",
    "import numpy as np\n",
    "import tensorflow as tf\n",
    "from tensorflow.keras.optimizers import Adam\n",
    "import matplotlib.pyplot as plt\n",
    "from prophet import Prophet"
   ]
  },
  {
   "cell_type": "code",
   "execution_count": 2,
   "outputs": [
    {
     "output_type": "execute_result",
     "data": {
      "text/plain": [
       "                Date_HPSC  TotalLabs  PRate  Test24\n",
       "0  2020/03/18 11:00:00+00       6457    6.1       0\n",
       "1  2020/03/19 11:00:00+00       7403    6.3     946\n",
       "2  2020/03/20 11:00:00+00       8872    6.4    1469\n",
       "3  2020/03/21 11:00:00+00      10436    6.0    1564\n",
       "4  2020/03/22 11:00:00+00      11414    6.5     978"
      ],
      "text/html": "<div>\n<style scoped>\n    .dataframe tbody tr th:only-of-type {\n        vertical-align: middle;\n    }\n\n    .dataframe tbody tr th {\n        vertical-align: top;\n    }\n\n    .dataframe thead th {\n        text-align: right;\n    }\n</style>\n<table border=\"1\" class=\"dataframe\">\n  <thead>\n    <tr style=\"text-align: right;\">\n      <th></th>\n      <th>Date_HPSC</th>\n      <th>TotalLabs</th>\n      <th>PRate</th>\n      <th>Test24</th>\n    </tr>\n  </thead>\n  <tbody>\n    <tr>\n      <th>0</th>\n      <td>2020/03/18 11:00:00+00</td>\n      <td>6457</td>\n      <td>6.1</td>\n      <td>0</td>\n    </tr>\n    <tr>\n      <th>1</th>\n      <td>2020/03/19 11:00:00+00</td>\n      <td>7403</td>\n      <td>6.3</td>\n      <td>946</td>\n    </tr>\n    <tr>\n      <th>2</th>\n      <td>2020/03/20 11:00:00+00</td>\n      <td>8872</td>\n      <td>6.4</td>\n      <td>1469</td>\n    </tr>\n    <tr>\n      <th>3</th>\n      <td>2020/03/21 11:00:00+00</td>\n      <td>10436</td>\n      <td>6.0</td>\n      <td>1564</td>\n    </tr>\n    <tr>\n      <th>4</th>\n      <td>2020/03/22 11:00:00+00</td>\n      <td>11414</td>\n      <td>6.5</td>\n      <td>978</td>\n    </tr>\n  </tbody>\n</table>\n</div>"
     },
     "metadata": {},
     "execution_count": 2
    }
   ],
   "source": [
    "fields = [\"Date_HPSC\", \"TotalLabs\", \"Test24\", \"PRate\"]\n",
    "cov_nums = pd.read_csv(\"LaboratoryLocalTimeSeriesHistoricView.csv\", usecols=fields)\n",
    "cov_nums.head()"
   ],
   "metadata": {
    "collapsed": false,
    "pycharm": {
     "name": "#%%\n"
    }
   }
  },
  {
   "cell_type": "code",
   "execution_count": 3,
   "outputs": [
    {
     "output_type": "execute_result",
     "data": {
      "text/plain": [
       "                  Date_HPSC  TotalLabs  PRate  Test24  daily_pos\n",
       "389  2021/04/11 11:00:00+00    4184407    5.9   14355        847\n",
       "390  2021/04/12 11:00:00+00    4196325    5.9   11918        703\n",
       "391  2021/04/13 11:00:00+00    4209975    5.9   13650        805\n",
       "392  2021/04/14 11:00:00+00    4226847    5.9   16872        995\n",
       "393  2021/04/15 11:00:00+00    4241709    5.9   14862        877"
      ],
      "text/html": "<div>\n<style scoped>\n    .dataframe tbody tr th:only-of-type {\n        vertical-align: middle;\n    }\n\n    .dataframe tbody tr th {\n        vertical-align: top;\n    }\n\n    .dataframe thead th {\n        text-align: right;\n    }\n</style>\n<table border=\"1\" class=\"dataframe\">\n  <thead>\n    <tr style=\"text-align: right;\">\n      <th></th>\n      <th>Date_HPSC</th>\n      <th>TotalLabs</th>\n      <th>PRate</th>\n      <th>Test24</th>\n      <th>daily_pos</th>\n    </tr>\n  </thead>\n  <tbody>\n    <tr>\n      <th>389</th>\n      <td>2021/04/11 11:00:00+00</td>\n      <td>4184407</td>\n      <td>5.9</td>\n      <td>14355</td>\n      <td>847</td>\n    </tr>\n    <tr>\n      <th>390</th>\n      <td>2021/04/12 11:00:00+00</td>\n      <td>4196325</td>\n      <td>5.9</td>\n      <td>11918</td>\n      <td>703</td>\n    </tr>\n    <tr>\n      <th>391</th>\n      <td>2021/04/13 11:00:00+00</td>\n      <td>4209975</td>\n      <td>5.9</td>\n      <td>13650</td>\n      <td>805</td>\n    </tr>\n    <tr>\n      <th>392</th>\n      <td>2021/04/14 11:00:00+00</td>\n      <td>4226847</td>\n      <td>5.9</td>\n      <td>16872</td>\n      <td>995</td>\n    </tr>\n    <tr>\n      <th>393</th>\n      <td>2021/04/15 11:00:00+00</td>\n      <td>4241709</td>\n      <td>5.9</td>\n      <td>14862</td>\n      <td>877</td>\n    </tr>\n  </tbody>\n</table>\n</div>"
     },
     "metadata": {},
     "execution_count": 3
    }
   ],
   "source": [
    "def positive(row):\n",
    "    pos = (row['Test24'] / 100) * row['PRate']\n",
    "    return round(pos)\n",
    "\n",
    "cov_nums['daily_pos'] = cov_nums.apply(positive, axis=1)\n",
    "cov_nums = cov_nums.iloc[1:]\n",
    "cov_nums.tail()"
   ],
   "metadata": {
    "collapsed": false,
    "pycharm": {
     "name": "#%%\n"
    }
   }
  },
  {
   "cell_type": "code",
   "execution_count": 4,
   "outputs": [
    {
     "output_type": "execute_result",
     "data": {
      "text/plain": [
       "    Date_HPSC  Test24\n",
       "1  2020-03-19     946\n",
       "2  2020-03-20    1469\n",
       "3  2020-03-21    1564\n",
       "4  2020-03-22     978\n",
       "5  2020-03-23    2581"
      ],
      "text/html": "<div>\n<style scoped>\n    .dataframe tbody tr th:only-of-type {\n        vertical-align: middle;\n    }\n\n    .dataframe tbody tr th {\n        vertical-align: top;\n    }\n\n    .dataframe thead th {\n        text-align: right;\n    }\n</style>\n<table border=\"1\" class=\"dataframe\">\n  <thead>\n    <tr style=\"text-align: right;\">\n      <th></th>\n      <th>Date_HPSC</th>\n      <th>Test24</th>\n    </tr>\n  </thead>\n  <tbody>\n    <tr>\n      <th>1</th>\n      <td>2020-03-19</td>\n      <td>946</td>\n    </tr>\n    <tr>\n      <th>2</th>\n      <td>2020-03-20</td>\n      <td>1469</td>\n    </tr>\n    <tr>\n      <th>3</th>\n      <td>2020-03-21</td>\n      <td>1564</td>\n    </tr>\n    <tr>\n      <th>4</th>\n      <td>2020-03-22</td>\n      <td>978</td>\n    </tr>\n    <tr>\n      <th>5</th>\n      <td>2020-03-23</td>\n      <td>2581</td>\n    </tr>\n  </tbody>\n</table>\n</div>"
     },
     "metadata": {},
     "execution_count": 4
    }
   ],
   "source": [
    "test_info = [\"Date_HPSC\", \"Test24\"]\n",
    "test_df = cov_nums[test_info]\n",
    "test_df = pd.DataFrame(test_df)\n",
    "test_df['Date_HPSC'] = pd.to_datetime(test_df['Date_HPSC']).dt.date\n",
    "test_df.head()"
   ],
   "metadata": {
    "collapsed": false,
    "pycharm": {
     "name": "#%%\n"
    }
   }
  },
  {
   "cell_type": "code",
   "execution_count": 5,
   "outputs": [],
   "source": [
    "pos = ['Date_HPSC','Test24','daily_pos','PRate']\n",
    "pos_df = cov_nums[pos]\n",
    "pos_df = pd.DataFrame(pos_df)\n",
    "pos_df['Date_HPSC'] = pd.to_datetime(pos_df['Date_HPSC']).dt.date"
   ],
   "metadata": {
    "collapsed": false,
    "pycharm": {
     "name": "#%%\n"
    }
   }
  },
  {
   "cell_type": "code",
   "execution_count": 6,
   "outputs": [],
   "source": [
    "def seq(row):\n",
    "    length = (int(row['Test24']) - int(row['daily_pos']))\n",
    "    daily_pos = int(row['daily_pos'])\n",
    "    init_seq = [0] * length\n",
    "    init_pos = [1] * daily_pos\n",
    "    seq_list = init_seq + init_pos\n",
    "    for i in range(len(seq_list)-1, 0, -1):\n",
    "        j = random.randint(0, i+1)\n",
    "        seq_list[i], seq_list[j] = seq_list[j], seq_list[i]\n",
    "    return list(seq_list)\n",
    "\n",
    "pos_df['seq_list'] = pos_df.apply(seq, axis=1)\n",
    "pos_df = pd.DataFrame(pos_df)\n"
   ],
   "metadata": {
    "collapsed": false,
    "pycharm": {
     "name": "#%%\n"
    }
   }
  },
  {
   "cell_type": "code",
   "execution_count": 7,
   "metadata": {},
   "outputs": [
    {
     "output_type": "execute_result",
     "data": {
      "text/plain": [
       "    Date_HPSC  Test24  daily_pos  PRate  pool_test\n",
       "1  2020-03-19     946         60    6.3        377\n",
       "2  2020-03-20    1469         94    6.4        587\n",
       "3  2020-03-21    1564         94    6.0        591\n",
       "4  2020-03-22     978         64    6.5        390\n",
       "5  2020-03-23    2581        157    6.1        990"
      ],
      "text/html": "<div>\n<style scoped>\n    .dataframe tbody tr th:only-of-type {\n        vertical-align: middle;\n    }\n\n    .dataframe tbody tr th {\n        vertical-align: top;\n    }\n\n    .dataframe thead th {\n        text-align: right;\n    }\n</style>\n<table border=\"1\" class=\"dataframe\">\n  <thead>\n    <tr style=\"text-align: right;\">\n      <th></th>\n      <th>Date_HPSC</th>\n      <th>Test24</th>\n      <th>daily_pos</th>\n      <th>PRate</th>\n      <th>pool_test</th>\n    </tr>\n  </thead>\n  <tbody>\n    <tr>\n      <th>1</th>\n      <td>2020-03-19</td>\n      <td>946</td>\n      <td>60</td>\n      <td>6.3</td>\n      <td>377</td>\n    </tr>\n    <tr>\n      <th>2</th>\n      <td>2020-03-20</td>\n      <td>1469</td>\n      <td>94</td>\n      <td>6.4</td>\n      <td>587</td>\n    </tr>\n    <tr>\n      <th>3</th>\n      <td>2020-03-21</td>\n      <td>1564</td>\n      <td>94</td>\n      <td>6.0</td>\n      <td>591</td>\n    </tr>\n    <tr>\n      <th>4</th>\n      <td>2020-03-22</td>\n      <td>978</td>\n      <td>64</td>\n      <td>6.5</td>\n      <td>390</td>\n    </tr>\n    <tr>\n      <th>5</th>\n      <td>2020-03-23</td>\n      <td>2581</td>\n      <td>157</td>\n      <td>6.1</td>\n      <td>990</td>\n    </tr>\n  </tbody>\n</table>\n</div>"
     },
     "metadata": {},
     "execution_count": 7
    }
   ],
   "source": [
    "def hasPositive(block):\n",
    "    for node in block:\n",
    "        if node == 1:\n",
    "            return True\n",
    "    return False\n",
    "\n",
    "def splitBlock(block):\n",
    "    halfBlock = len(block) // 2\n",
    "    return block[:halfBlock], block[halfBlock:]\n",
    "\n",
    "def binSplit(data, count):\n",
    "    count += 1\n",
    "    #print(\"Data:\", data)\n",
    "    if len(data) > 1 and hasPositive(data):     # Branch is complete\n",
    "        left, right = splitBlock(data)      # Split the block\n",
    "       # print(\"Left:\", left, \"\\tRight:\", right)\n",
    "        if len(left) <= 1 or not hasPositive(left):     # Left branch is complete\n",
    "        #    print(\"Left branch is complete\")\n",
    "            return binSplit(right, count)\n",
    "        result, count = binSplit(left, count)\n",
    "      #  print(\"Result:\", result)\n",
    "        if result is True:\n",
    "       #     print(\"Result was True\")\n",
    "            return binSplit(right, count)\n",
    "      #  print(\"Adding result to right and splitting\")\n",
    "        return binSplit((result + right), count)\n",
    "    else:\n",
    "     #   print(\"Returning True\")\n",
    "        return True, count\n",
    "\n",
    "def runtime(row):\n",
    "    answer = binSplit(row, 0)[1]\n",
    "    return answer\n",
    "\n",
    "pos_df['pool_test'] = pos_df['seq_list'].apply(runtime)\n",
    "pos_df['pool_test'].head()\n",
    "pos_df = pos_df.drop(['seq_list'], axis=1)\n",
    "\n",
    "df = pos_df\n",
    "df.head()"
   ]
  },
  {
   "cell_type": "code",
   "execution_count": 8,
   "outputs": [
    {
     "output_type": "stream",
     "name": "stderr",
     "text": [
      "C:\\Users\\80317960\\Anaconda3\\lib\\site-packages\\pandas\\core\\frame.py:4296: SettingWithCopyWarning: \nA value is trying to be set on a copy of a slice from a DataFrame\n\nSee the caveats in the documentation: https://pandas.pydata.org/pandas-docs/stable/user_guide/indexing.html#returning-a-view-versus-a-copy\n  return super().rename(\n"
     ]
    }
   ],
   "source": [
    "pred_pool = ['Date_HPSC', 'pool_test']\n",
    "pred_pool = df[pred_pool]\n",
    "pred_pool.rename(columns={'Date_HPSC':'ds',\n",
    "                          'pool_test':'y'},\n",
    "                 inplace=True)\n"
   ],
   "metadata": {
    "collapsed": false,
    "pycharm": {
     "name": "#%%\n"
    }
   }
  },
  {
   "cell_type": "code",
   "execution_count": 10,
   "outputs": [
    {
     "output_type": "stream",
     "name": "stderr",
     "text": [
      "INFO:numexpr.utils:NumExpr defaulting to 8 threads.\n",
      "INFO:prophet:Disabling yearly seasonality. Run prophet with yearly_seasonality=True to override this.\n",
      "INFO:prophet:Disabling daily seasonality. Run prophet with daily_seasonality=True to override this.\n"
     ]
    }
   ],
   "source": [
    "m = Prophet().fit(pred_pool)"
   ],
   "metadata": {
    "collapsed": false,
    "pycharm": {
     "name": "#%%\n"
    }
   }
  },
  {
   "cell_type": "code",
   "execution_count": 12,
   "metadata": {},
   "outputs": [
    {
     "output_type": "execute_result",
     "data": {
      "text/plain": [
       "          ds\n",
       "0 2020-03-19\n",
       "1 2020-03-20\n",
       "2 2020-03-21\n",
       "3 2020-03-22\n",
       "4 2020-03-23"
      ],
      "text/html": "<div>\n<style scoped>\n    .dataframe tbody tr th:only-of-type {\n        vertical-align: middle;\n    }\n\n    .dataframe tbody tr th {\n        vertical-align: top;\n    }\n\n    .dataframe thead th {\n        text-align: right;\n    }\n</style>\n<table border=\"1\" class=\"dataframe\">\n  <thead>\n    <tr style=\"text-align: right;\">\n      <th></th>\n      <th>ds</th>\n    </tr>\n  </thead>\n  <tbody>\n    <tr>\n      <th>0</th>\n      <td>2020-03-19</td>\n    </tr>\n    <tr>\n      <th>1</th>\n      <td>2020-03-20</td>\n    </tr>\n    <tr>\n      <th>2</th>\n      <td>2020-03-21</td>\n    </tr>\n    <tr>\n      <th>3</th>\n      <td>2020-03-22</td>\n    </tr>\n    <tr>\n      <th>4</th>\n      <td>2020-03-23</td>\n    </tr>\n  </tbody>\n</table>\n</div>"
     },
     "metadata": {},
     "execution_count": 12
    }
   ],
   "source": [
    "future = m.make_future_dataframe(periods=30)\n",
    "future.head()"
   ]
  },
  {
   "cell_type": "code",
   "execution_count": 13,
   "outputs": [
    {
     "output_type": "execute_result",
     "data": {
      "text/plain": [
       "              pred_pool  yhat_lower   yhat_upper  trend_lower  trend_upper  \\\n",
       "Date_HPSC                                                                    \n",
       "2020-03-19  2168.709992  756.137421  4378.261774  2168.709992  2168.709992   \n",
       "2020-03-20  2169.552260  952.356989  4523.888506  2169.552260  2169.552260   \n",
       "2020-03-21  2170.394528  625.791889  4288.471332  2170.394528  2170.394528   \n",
       "2020-03-22  2171.236796  245.887405  3823.225621  2171.236796  2171.236796   \n",
       "2020-03-23  2172.079064 -404.738596  3387.757270  2172.079064  2172.079064   \n",
       "\n",
       "            additive_terms  additive_terms_lower  additive_terms_upper  \\\n",
       "Date_HPSC                                                                \n",
       "2020-03-19      336.702071            336.702071            336.702071   \n",
       "2020-03-20      521.439607            521.439607            521.439607   \n",
       "2020-03-21      355.742636            355.742636            355.742636   \n",
       "2020-03-22     -186.972122           -186.972122           -186.972122   \n",
       "2020-03-23     -623.842894           -623.842894           -623.842894   \n",
       "\n",
       "                weekly  weekly_lower  weekly_upper  multiplicative_terms  \\\n",
       "Date_HPSC                                                                  \n",
       "2020-03-19  336.702071    336.702071    336.702071                   0.0   \n",
       "2020-03-20  521.439607    521.439607    521.439607                   0.0   \n",
       "2020-03-21  355.742636    355.742636    355.742636                   0.0   \n",
       "2020-03-22 -186.972122   -186.972122   -186.972122                   0.0   \n",
       "2020-03-23 -623.842894   -623.842894   -623.842894                   0.0   \n",
       "\n",
       "            multiplicative_terms_lower  multiplicative_terms_upper  \\\n",
       "Date_HPSC                                                            \n",
       "2020-03-19                         0.0                         0.0   \n",
       "2020-03-20                         0.0                         0.0   \n",
       "2020-03-21                         0.0                         0.0   \n",
       "2020-03-22                         0.0                         0.0   \n",
       "2020-03-23                         0.0                         0.0   \n",
       "\n",
       "                   yhat  \n",
       "Date_HPSC                \n",
       "2020-03-19  2505.412062  \n",
       "2020-03-20  2690.991867  \n",
       "2020-03-21  2526.137164  \n",
       "2020-03-22  1984.264674  \n",
       "2020-03-23  1548.236170  "
      ],
      "text/html": "<div>\n<style scoped>\n    .dataframe tbody tr th:only-of-type {\n        vertical-align: middle;\n    }\n\n    .dataframe tbody tr th {\n        vertical-align: top;\n    }\n\n    .dataframe thead th {\n        text-align: right;\n    }\n</style>\n<table border=\"1\" class=\"dataframe\">\n  <thead>\n    <tr style=\"text-align: right;\">\n      <th></th>\n      <th>pred_pool</th>\n      <th>yhat_lower</th>\n      <th>yhat_upper</th>\n      <th>trend_lower</th>\n      <th>trend_upper</th>\n      <th>additive_terms</th>\n      <th>additive_terms_lower</th>\n      <th>additive_terms_upper</th>\n      <th>weekly</th>\n      <th>weekly_lower</th>\n      <th>weekly_upper</th>\n      <th>multiplicative_terms</th>\n      <th>multiplicative_terms_lower</th>\n      <th>multiplicative_terms_upper</th>\n      <th>yhat</th>\n    </tr>\n    <tr>\n      <th>Date_HPSC</th>\n      <th></th>\n      <th></th>\n      <th></th>\n      <th></th>\n      <th></th>\n      <th></th>\n      <th></th>\n      <th></th>\n      <th></th>\n      <th></th>\n      <th></th>\n      <th></th>\n      <th></th>\n      <th></th>\n      <th></th>\n    </tr>\n  </thead>\n  <tbody>\n    <tr>\n      <th>2020-03-19</th>\n      <td>2168.709992</td>\n      <td>756.137421</td>\n      <td>4378.261774</td>\n      <td>2168.709992</td>\n      <td>2168.709992</td>\n      <td>336.702071</td>\n      <td>336.702071</td>\n      <td>336.702071</td>\n      <td>336.702071</td>\n      <td>336.702071</td>\n      <td>336.702071</td>\n      <td>0.0</td>\n      <td>0.0</td>\n      <td>0.0</td>\n      <td>2505.412062</td>\n    </tr>\n    <tr>\n      <th>2020-03-20</th>\n      <td>2169.552260</td>\n      <td>952.356989</td>\n      <td>4523.888506</td>\n      <td>2169.552260</td>\n      <td>2169.552260</td>\n      <td>521.439607</td>\n      <td>521.439607</td>\n      <td>521.439607</td>\n      <td>521.439607</td>\n      <td>521.439607</td>\n      <td>521.439607</td>\n      <td>0.0</td>\n      <td>0.0</td>\n      <td>0.0</td>\n      <td>2690.991867</td>\n    </tr>\n    <tr>\n      <th>2020-03-21</th>\n      <td>2170.394528</td>\n      <td>625.791889</td>\n      <td>4288.471332</td>\n      <td>2170.394528</td>\n      <td>2170.394528</td>\n      <td>355.742636</td>\n      <td>355.742636</td>\n      <td>355.742636</td>\n      <td>355.742636</td>\n      <td>355.742636</td>\n      <td>355.742636</td>\n      <td>0.0</td>\n      <td>0.0</td>\n      <td>0.0</td>\n      <td>2526.137164</td>\n    </tr>\n    <tr>\n      <th>2020-03-22</th>\n      <td>2171.236796</td>\n      <td>245.887405</td>\n      <td>3823.225621</td>\n      <td>2171.236796</td>\n      <td>2171.236796</td>\n      <td>-186.972122</td>\n      <td>-186.972122</td>\n      <td>-186.972122</td>\n      <td>-186.972122</td>\n      <td>-186.972122</td>\n      <td>-186.972122</td>\n      <td>0.0</td>\n      <td>0.0</td>\n      <td>0.0</td>\n      <td>1984.264674</td>\n    </tr>\n    <tr>\n      <th>2020-03-23</th>\n      <td>2172.079064</td>\n      <td>-404.738596</td>\n      <td>3387.757270</td>\n      <td>2172.079064</td>\n      <td>2172.079064</td>\n      <td>-623.842894</td>\n      <td>-623.842894</td>\n      <td>-623.842894</td>\n      <td>-623.842894</td>\n      <td>-623.842894</td>\n      <td>-623.842894</td>\n      <td>0.0</td>\n      <td>0.0</td>\n      <td>0.0</td>\n      <td>1548.236170</td>\n    </tr>\n  </tbody>\n</table>\n</div>"
     },
     "metadata": {},
     "execution_count": 13
    }
   ],
   "source": [
    "forecast = m.predict(future)\n",
    "forecast.rename(columns={'ds':'Date_HPSC',\n",
    "                         'trend': 'pred_pool'},\n",
    "                inplace=True)\n",
    "forecast = forecast.set_index('Date_HPSC')\n",
    "forecast.head()\n"
   ],
   "metadata": {
    "collapsed": false,
    "pycharm": {
     "name": "#%%\n"
    }
   }
  },
  {
   "cell_type": "code",
   "execution_count": 15,
   "metadata": {},
   "outputs": [],
   "source": [
    "forecast.to_csv('out_data/forecast.csv')\n",
    "df.to_csv('out_data/pool_test.csv')"
   ]
  },
  {
   "cell_type": "code",
   "execution_count": null,
   "metadata": {},
   "outputs": [],
   "source": []
  }
 ],
 "metadata": {
  "kernelspec": {
   "name": "python385jvsc74a57bd0075f00ac02167dcb8883d4cd9662c1f219219d744033d5c523e59d9da153374a",
   "display_name": "Python 3.8.5 64-bit (conda)"
  },
  "language_info": {
   "codemirror_mode": {
    "name": "ipython",
    "version": 2
   },
   "file_extension": ".py",
   "mimetype": "text/x-python",
   "name": "python",
   "nbconvert_exporter": "python",
   "pygments_lexer": "ipython2",
   "version": "3.8.5-final"
  },
  "metadata": {
   "interpreter": {
    "hash": "2db524e06e9f5f4ffedc911c917cb75e12dbc923643829bf417064a77eb14d37"
   }
  }
 },
 "nbformat": 4,
 "nbformat_minor": 0
}